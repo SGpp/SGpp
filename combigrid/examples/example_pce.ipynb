{
 "cells": [
  {
   "cell_type": "markdown",
   "metadata": {},
   "source": [
    "## PCE with Combigrids (Python)\n",
    "This simple example shows how to create a Polynomial Chaos Expansion from an adaptively refined combigrid."
   ]
  },
  {
   "cell_type": "code",
   "execution_count": 1,
   "metadata": {},
   "outputs": [],
   "source": [
    "import numpy as np\n",
    "import pysgpp\n",
    "import time"
   ]
  },
  {
   "cell_type": "markdown",
   "metadata": {},
   "source": [
    "First we have to define a model to approximate."
   ]
  },
  {
   "cell_type": "code",
   "execution_count": 8,
   "metadata": {},
   "outputs": [],
   "source": [
    "def expModel(x):\n",
    "    return np.exp(-x[0] * x[1])"
   ]
  },
  {
   "cell_type": "markdown",
   "metadata": {},
   "source": [
    "Then we can create a refined combigrid "
   ]
  },
  {
   "cell_type": "code",
   "execution_count": 6,
   "metadata": {},
   "outputs": [],
   "source": [
    "start_time = time.time()\n",
    "# initialize model function\n",
    "func = pysgpp.multiFunc(expModel)\n",
    "numDims = 2\n",
    "# regular sparse grid level q\n",
    "q = 6 \n",
    "# create polynomial basis\n",
    "config = pysgpp.OrthogonalPolynomialBasis1DConfiguration()\n",
    "config.polyParameters.type_ = pysgpp.OrthogonalPolynomialBasisType_LEGENDRE\n",
    "basisFunction = pysgpp.OrthogonalPolynomialBasis1D(config) \n",
    "# create sprarse grid interpolation operation\n",
    "op = pysgpp.CombigridOperation.createExpClenshawCurtisPolynomialInterpolation(numDims, func)\n",
    "# start with regular level q and add some levels adaptively\n",
    "op.getLevelManager().addRegularLevels(q)\n",
    "op.getLevelManager().addLevelsAdaptiveByNumLevels(5)"
   ]
  },
  {
   "cell_type": "markdown",
   "metadata": {},
   "source": [
    "and construct a PCE representation to easily calculate statistical features of our model."
   ]
  },
  {
   "cell_type": "code",
   "execution_count": 7,
   "metadata": {},
   "outputs": [
    {
     "ename": "RuntimeError",
     "evalue": "need Eigen to use the PCE transformation.",
     "output_type": "error",
     "traceback": [
      "\u001b[0;31m---------------------------------------------------------------------------\u001b[0m",
      "\u001b[0;31mRuntimeError\u001b[0m                              Traceback (most recent call last)",
      "\u001b[0;32m<ipython-input-7-16dfa7dc0776>\u001b[0m in \u001b[0;36m<module>\u001b[0;34m()\u001b[0m\n\u001b[1;32m      4\u001b[0m \u001b[0msurrogateConfig\u001b[0m\u001b[0;34m.\u001b[0m\u001b[0mloadFromCombigridOperation\u001b[0m\u001b[0;34m(\u001b[0m\u001b[0mop\u001b[0m\u001b[0;34m)\u001b[0m\u001b[0;34m\u001b[0m\u001b[0m\n\u001b[1;32m      5\u001b[0m \u001b[0msurrogateConfig\u001b[0m\u001b[0;34m.\u001b[0m\u001b[0mbasisFunction\u001b[0m \u001b[0;34m=\u001b[0m \u001b[0mbasisFunction\u001b[0m\u001b[0;34m\u001b[0m\u001b[0m\n\u001b[0;32m----> 6\u001b[0;31m \u001b[0mpce\u001b[0m \u001b[0;34m=\u001b[0m \u001b[0mpysgpp\u001b[0m\u001b[0;34m.\u001b[0m\u001b[0mcreateCombigridSurrogateModel\u001b[0m\u001b[0;34m(\u001b[0m\u001b[0msurrogateConfig\u001b[0m\u001b[0;34m)\u001b[0m\u001b[0;34m\u001b[0m\u001b[0m\n\u001b[0m\u001b[1;32m      7\u001b[0m \u001b[0;31m# compute sobol indices\u001b[0m\u001b[0;34m\u001b[0m\u001b[0;34m\u001b[0m\u001b[0m\n\u001b[1;32m      8\u001b[0m \u001b[0msobol_indices\u001b[0m \u001b[0;34m=\u001b[0m \u001b[0mpysgpp\u001b[0m\u001b[0;34m.\u001b[0m\u001b[0mDataVector\u001b[0m\u001b[0;34m(\u001b[0m\u001b[0;36m1\u001b[0m\u001b[0;34m)\u001b[0m\u001b[0;34m\u001b[0m\u001b[0m\n",
      "\u001b[0;31mRuntimeError\u001b[0m: need Eigen to use the PCE transformation."
     ]
    }
   ],
   "source": [
    "# create polynomial chaos surrogate from sparse grid\n",
    "surrogateConfig = pysgpp.CombigridSurrogateModelConfiguration()\n",
    "surrogateConfig.type = pysgpp.CombigridSurrogateModelsType_POLYNOMIAL_CHAOS_EXPANSION\n",
    "surrogateConfig.loadFromCombigridOperation(op)\n",
    "surrogateConfig.basisFunction = basisFunction\n",
    "pce = pysgpp.createCombigridSurrogateModel(surrogateConfig)\n",
    "# compute sobol indices\n",
    "sobol_indices = pysgpp.DataVector(1)\n",
    "total_indices = pysgpp.DataVector(1)\n",
    "pce.getComponentSobolIndices(sobol_indices)\n",
    "pce.getTotalSobolIndices(total_indices)\n",
    "# print results\n",
    "print(\"Mean: {} Variance: {}\".format(pce.mean(), pce.variance()))\n",
    "print(\"Sobol indices {}\".format(sobol_indices.toString()))\n",
    "print(\"Total Sobol indices {}\".format(total_indices.toString()))\n",
    "print(\"Sum {}\\n\".format(sobol_indices.sum()))\n",
    "\n",
    "print(\"Elapsed time: {} s\".format(time.time() - start_time))"
   ]
  },
  {
   "cell_type": "code",
   "execution_count": null,
   "metadata": {},
   "outputs": [],
   "source": []
  }
 ],
 "metadata": {
  "kernelspec": {
   "display_name": "Python 3",
   "language": "python",
   "name": "python3"
  },
  "language_info": {
   "codemirror_mode": {
    "name": "ipython",
    "version": 3
   },
   "file_extension": ".py",
   "mimetype": "text/x-python",
   "name": "python",
   "nbconvert_exporter": "python",
   "pygments_lexer": "ipython3",
   "version": "3.5.2"
  }
 },
 "nbformat": 4,
 "nbformat_minor": 2
}

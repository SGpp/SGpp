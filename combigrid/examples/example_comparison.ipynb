{
 "cells": [
  {
   "cell_type": "markdown",
   "metadata": {},
   "source": [
    "## example_comparison\n",
    "Comparing the results of linear Leja quadrature for the full grid, regular combi technique and adaptive combigrid"
   ]
  },
  {
   "cell_type": "code",
   "execution_count": 5,
   "metadata": {},
   "outputs": [],
   "source": [
    "import pysgpp\n",
    "import math\n",
    "import matplotlib.pyplot as plt\n",
    "from mpl_toolkits.mplot3d import Axes3D\n",
    "from functools import reduce\n",
    "from operator import mul"
   ]
  },
  {
   "cell_type": "code",
   "execution_count": 6,
   "metadata": {},
   "outputs": [
    {
     "name": "stdout",
     "output_type": "stream",
     "text": [
      "Full Grid Error: 0.00020171074939834277\n",
      "Number of grid points: 243\n",
      "Regular Grid Error: 1.719493880614209e-09\n",
      "Number of grid points: 231\n",
      "Adaptive Grid Error: 1.6986412276764895e-14\n",
      "Number of grid points: 225\n"
     ]
    }
   ],
   "source": [
    "\n",
    "base = 0.1\n",
    "\n",
    "## The first thing we need is a function to evaluate. This function will be evaluated on the domain\n",
    "## \\f$[0, 1]^d\\f$. This particular function can be used with any number of dimensions.\n",
    "## The input parameter of the function is of type pysgpp.DataVector, so do not treat it like a list.\n",
    "## The return type is float.\n",
    "def f(x):\n",
    "    product = 1.0\n",
    "    for i in range(x.getSize()):\n",
    "        product *= math.exp(-pow(base, i)*x[i])\n",
    "    return product\n",
    "\n",
    "\n",
    "## We have to wrap f in a pysgpp.MultiFunction object.\n",
    "func = pysgpp.multiFunc(f)\n",
    "\n",
    "## comparison function\n",
    "def compare():\n",
    "    mydim = 5\n",
    "    operation = pysgpp.CombigridOperation.createLinearLejaQuadrature(mydim, func)\n",
    "    levelManager = operation.getLevelManager()\n",
    "    idx = pysgpp.IndexVector([1 for i in range(mydim)])\n",
    "    levelManager.addLevel(idx)\n",
    "\n",
    "    result = operation.getResult()\n",
    "    analyticalResult = reduce(mul, [pow(base, -i) * (1.0 - pow(math.e, -pow(base, i))) for i in range(mydim)], 1.0)\n",
    "\n",
    "    print(\"Full Grid Error: \" + str(abs(result - analyticalResult)))\n",
    "    numGridPoints = operation.numGridPoints()\n",
    "    print(\"Number of grid points: \" + str(numGridPoints))\n",
    "\n",
    "    ## Clear\n",
    "    operation.setParameters()\n",
    "    result = operation.evaluate(3)\n",
    "    print(\"Regular Grid Error: \" + str(abs(result - analyticalResult)))\n",
    "    numGridPoints2 = operation.numGridPoints()\n",
    "    print(\"Number of grid points: \" + str(numGridPoints2))\n",
    "\n",
    "    ## Clear\n",
    "    operation.setParameters()\n",
    "    levelManager.addLevelsAdaptive(numGridPoints2)\n",
    "    result = operation.getResult()\n",
    "    print(\"Adaptive Grid Error: \" + str(abs(result - analyticalResult)))\n",
    "    numGridPoints3 = operation.numGridPoints()\n",
    "    print(\"Number of grid points: \" + str(numGridPoints3))\n",
    "\n",
    "compare()\n"
   ]
  },
  {
   "cell_type": "code",
   "execution_count": null,
   "metadata": {},
   "outputs": [],
   "source": []
  }
 ],
 "metadata": {
  "kernelspec": {
   "display_name": "Python 3",
   "language": "python",
   "name": "python3"
  },
  "language_info": {
   "codemirror_mode": {
    "name": "ipython",
    "version": 3
   },
   "file_extension": ".py",
   "mimetype": "text/x-python",
   "name": "python",
   "nbconvert_exporter": "python",
   "pygments_lexer": "ipython3",
   "version": "3.5.2"
  }
 },
 "nbformat": 4,
 "nbformat_minor": 2
}
